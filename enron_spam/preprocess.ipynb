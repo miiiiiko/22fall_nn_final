{
 "cells": [
  {
   "cell_type": "code",
   "execution_count": 12,
   "metadata": {},
   "outputs": [],
   "source": [
    "import ljqpy\n",
    "import os\n",
    "datadir = 'raw'"
   ]
  },
  {
   "cell_type": "code",
   "execution_count": 13,
   "metadata": {},
   "outputs": [],
   "source": [
    "ham_dir = []\n",
    "spam_dir = []\n",
    "\n",
    "for fn in ljqpy.ListDirFiles(datadir):\n",
    "    ham_fn = os.path.join(fn,'ham')\n",
    "    spam_fn = os.path.join(fn,'spam')\n",
    "    ham_dir.extend(ljqpy.ListDirFiles(ham_fn))\n",
    "    spam_dir.extend(ljqpy.ListDirFiles(spam_fn))\n",
    "    "
   ]
  },
  {
   "cell_type": "code",
   "execution_count": 14,
   "metadata": {},
   "outputs": [
    {
     "name": "stderr",
     "output_type": "stream",
     "text": [
      "[nltk_data] Downloading package stopwords to /home/qsm22/nltk_data...\n",
      "[nltk_data]   Package stopwords is already up-to-date!\n"
     ]
    },
    {
     "data": {
      "text/plain": [
       "True"
      ]
     },
     "execution_count": 14,
     "metadata": {},
     "output_type": "execute_result"
    }
   ],
   "source": [
    "import nltk\n",
    "nltk.download('stopwords')"
   ]
  },
  {
   "cell_type": "code",
   "execution_count": 15,
   "metadata": {},
   "outputs": [],
   "source": [
    "from nltk.corpus import stopwords\n",
    "import codecs\n",
    "stop_words = set(stopwords.words('english'))\n",
    "def filter(fn):\n",
    "    res = ' '\n",
    "    \n",
    "    with codecs.open(fn, 'r', encoding='utf-8',\\\n",
    "                 errors='ignore') as fin:\n",
    "\t\t\n",
    "        lines = [line.strip('\\n') for line in fin]\n",
    "    for line in lines:\n",
    "        # print(line[0])\n",
    "        text = line.lower()\n",
    "        cleaned = [e for e in text.split(' ') if e.isalnum()]\n",
    "        # cleaned = [word for word in cleaned if word not in stop_words and word!='']\n",
    "        cleaned = ' '.join(cleaned)\n",
    "        if len(cleaned)>0:\n",
    "            #put the whole message together by appending each cleaned line to the previous ones\n",
    "            res+=cleaned + ' '\n",
    "    return res.strip()\n"
   ]
  },
  {
   "cell_type": "code",
   "execution_count": 16,
   "metadata": {},
   "outputs": [],
   "source": [
    "data = []\n",
    "for ham_f in ham_dir:\n",
    "    text = filter(ham_f)\n",
    "    label = '0'\n",
    "    data.append({'text':text,'label':label})\n",
    "for spam_f in spam_dir:\n",
    "    text = filter(ham_f)\n",
    "    label = '1'\n",
    "    data.append({'text':text,'label':label})"
   ]
  },
  {
   "cell_type": "code",
   "execution_count": 17,
   "metadata": {},
   "outputs": [],
   "source": [
    "ljqpy.SaveJsons(data,'dataset/ds.json')"
   ]
  },
  {
   "cell_type": "code",
   "execution_count": 18,
   "metadata": {},
   "outputs": [],
   "source": [
    "import random\n",
    "def sep_data(file_path:str):  \n",
    "    '''\n",
    "    将数据随机打乱并切分成训练集和验证集\n",
    "    '''\n",
    "    data = []\n",
    "    for xx in ljqpy.LoadJsons(file_path):  # 数据格式.json\n",
    "        data.append(xx)\n",
    "        \n",
    "    random.shuffle(data)\n",
    "    n = int(len(data)*0.2)\n",
    "    train = data[n:]; val = data[:n]\n",
    "    ljqpy.SaveJsons(train,'./dataset/train.json')\n",
    "    ljqpy.SaveJsons(val,'./dataset/val.json')"
   ]
  },
  {
   "cell_type": "code",
   "execution_count": 19,
   "metadata": {},
   "outputs": [],
   "source": [
    "sep_data('dataset/ds.json')"
   ]
  }
 ],
 "metadata": {
  "kernelspec": {
   "display_name": "weibo_topic",
   "language": "python",
   "name": "python3"
  },
  "language_info": {
   "codemirror_mode": {
    "name": "ipython",
    "version": 3
   },
   "file_extension": ".py",
   "mimetype": "text/x-python",
   "name": "python",
   "nbconvert_exporter": "python",
   "pygments_lexer": "ipython3",
   "version": "3.7.15 (default, Nov 24 2022, 21:12:53) \n[GCC 11.2.0]"
  },
  "orig_nbformat": 4,
  "vscode": {
   "interpreter": {
    "hash": "f4ebd6e7441cb75761eefbf97f50f22bf8f737306b2521ee0718b55fda814bdd"
   }
  }
 },
 "nbformat": 4,
 "nbformat_minor": 2
}
